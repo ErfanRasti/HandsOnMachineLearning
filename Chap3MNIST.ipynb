{
    "cells": [
        {
            "cell_type": "code",
            "execution_count": null,
            "source": [
                "# Python ≥3.5 is required\r\n",
                "import sys\r\n",
                "assert sys.version_info >= (3, 5)\r\n",
                "\r\n",
                "# Is this notebook running on Colab or Kaggle?\r\n",
                "IS_COLAB = \"google.colab\" in sys.modules\r\n",
                "IS_KAGGLE = \"kaggle_secrets\" in sys.modules\r\n",
                "\r\n",
                "# Scikit-Learn ≥0.20 is required\r\n",
                "import sklearn\r\n",
                "assert sklearn.__version__ >= \"0.20\"\r\n",
                "\r\n",
                "# Common imports\r\n",
                "import numpy as np\r\n",
                "import os\r\n",
                "\r\n",
                "# to make this notebook's output stable across runs\r\n",
                "np.random.seed(42)\r\n",
                "\r\n",
                "# To plot pretty figures\r\n",
                "# %matplotlib inline\r\n",
                "import matplotlib as mpl\r\n",
                "import matplotlib.pyplot as plt\r\n",
                "mpl.rc('axes', labelsize=14)\r\n",
                "mpl.rc('xtick', labelsize=12)\r\n",
                "mpl.rc('ytick', labelsize=12)\r\n",
                "\r\n",
                "# Where to save the figures\r\n",
                "PROJECT_ROOT_DIR = \".\"\r\n",
                "CHAPTER_ID = \"classification\"\r\n",
                "IMAGES_PATH = os.path.join(PROJECT_ROOT_DIR, \"images\", CHAPTER_ID)\r\n",
                "os.makedirs(IMAGES_PATH, exist_ok=True)\r\n",
                "\r\n",
                "def save_fig(fig_id, tight_layout=True, fig_extension=\"png\", resolution=300):\r\n",
                "    path = os.path.join(IMAGES_PATH, fig_id + \".\" + fig_extension)\r\n",
                "    print(\"Saving figure\", fig_id)\r\n",
                "    if tight_layout:\r\n",
                "        plt.tight_layout()\r\n",
                "    plt.savefig(path, format=fig_extension, dpi=resolution)\r\n",
                "\r\n"
            ],
            "outputs": [],
            "metadata": {}
        },
        {
            "cell_type": "code",
            "execution_count": null,
            "source": [
                "import os\r\n",
                "import joblib\r\n",
                "\r\n",
                "modelPath = \"cache\\\\Chap3\"\r\n",
                "\r\n",
                "\r\n",
                "def fit_load(nameOfModel,  path=modelPath, **kwargs):\r\n",
                "    \"\"\"\r\n",
                "    fit_load : Fit the model on the training set\r\n",
                "                or load the .pkl file of the saved model.\r\n",
                "\r\n",
                "    Args:\r\n",
                "        nameOfModel (String): Name of the model variable as the string\r\n",
                "        path (String, optional): Path of the .pkl file. Defaults to modelPath.\r\n",
                "\r\n",
                "    Returns:\r\n",
                "        Model: sklearn fitted model\r\n",
                "    \"\"\"\r\n",
                "    os.makedirs(path, exist_ok=True)\r\n",
                "\r\n",
                "    model = eval(nameOfModel)\r\n",
                "    filePath = os.path.join(path, nameOfModel+\".pkl\")\r\n",
                "\r\n",
                "    if os.path.isfile(filePath):\r\n",
                "\r\n",
                "        # loading the model\r\n",
                "        model = joblib.load(filePath)\r\n",
                "\r\n",
                "    else:\r\n",
                "        model.fit(**kwargs)\r\n",
                "\r\n",
                "        # saving the model\r\n",
                "        joblib.dump(model, filePath)\r\n",
                "\r\n",
                "    return model\r\n"
            ],
            "outputs": [],
            "metadata": {}
        },
        {
            "cell_type": "code",
            "execution_count": null,
            "source": [
                "import os\r\n",
                "import joblib\r\n",
                "\r\n",
                "modelPath = \"cache\\\\Chap3\"\r\n",
                "\r\n",
                "\r\n",
                "def cross_val_function(nameOfFile,  crossValFunction, path=modelPath, **kwargs):\r\n",
                "    \"\"\"\r\n",
                "    cross_val_function : Evaluate a parameter on a model by cross-validation.\r\n",
                "\r\n",
                "    Args:\r\n",
                "        nameOfFile (String): Name of file to save\r\n",
                "        crossValFunction (Model): Type of cross-validation model\r\n",
                "        path (String, optional): Path of the .pkl file. Defaults to modelPath.\r\n",
                "\r\n",
                "    Returns:\r\n",
                "        model: sklearn model using cross-validation\r\n",
                "    \"\"\"\r\n",
                "    os.makedirs(path, exist_ok=True)\r\n",
                "\r\n",
                "    filePath = os.path.join(path, nameOfFile+\".pkl\")\r\n",
                "\r\n",
                "    if os.path.isfile(filePath):\r\n",
                "\r\n",
                "        # loading the model\r\n",
                "        model = joblib.load(filePath)\r\n",
                "\r\n",
                "    else:\r\n",
                "        model = crossValFunction(**kwargs)\r\n",
                "\r\n",
                "        # saving the model\r\n",
                "        joblib.dump(model, filePath)\r\n",
                "\r\n",
                "    return model\r\n"
            ],
            "outputs": [],
            "metadata": {}
        },
        {
            "cell_type": "markdown",
            "source": [
                "# MNIST"
            ],
            "metadata": {}
        },
        {
            "cell_type": "code",
            "execution_count": null,
            "source": [
                "\r\n",
                "from sklearn.datasets import fetch_openml\r\n",
                "mnist = fetch_openml('mnist_784', version=1, as_frame=False)\r\n",
                "mnist.keys()\r\n"
            ],
            "outputs": [],
            "metadata": {}
        },
        {
            "cell_type": "code",
            "execution_count": null,
            "source": [
                "X, y = mnist[\"data\"], mnist[\"target\"]\r\n",
                "X.shape, y.shape\r\n"
            ],
            "outputs": [],
            "metadata": {}
        },
        {
            "cell_type": "code",
            "execution_count": null,
            "source": [
                "28 * 28"
            ],
            "outputs": [],
            "metadata": {}
        },
        {
            "cell_type": "code",
            "execution_count": null,
            "source": [
                "\r\n",
                "import matplotlib as mpl\r\n",
                "import matplotlib.pyplot as plt\r\n",
                "\r\n",
                "some_digit = X[0]\r\n",
                "some_digit_image = some_digit.reshape(28, 28)\r\n",
                "plt.imshow(some_digit_image, cmap=mpl.cm.binary)\r\n",
                "plt.axis(\"off\")\r\n",
                "\r\n",
                "save_fig(\"some_digit_plot\")\r\n",
                "plt.show()"
            ],
            "outputs": [],
            "metadata": {}
        },
        {
            "cell_type": "code",
            "execution_count": null,
            "source": [
                "\r\n",
                "y[0]"
            ],
            "outputs": [],
            "metadata": {}
        },
        {
            "cell_type": "code",
            "execution_count": null,
            "source": [
                "y = y.astype(np.uint8)"
            ],
            "outputs": [],
            "metadata": {}
        },
        {
            "cell_type": "code",
            "execution_count": null,
            "source": [
                "def plot_digit(data):\r\n",
                "    \"\"\"Plot a digit.\"\"\"\r\n",
                "    image = data.reshape(28, 28)\r\n",
                "    plt.imshow(image, cmap = mpl.cm.binary,\r\n",
                "               interpolation=\"nearest\")\r\n",
                "    plt.axis(\"off\")"
            ],
            "outputs": [],
            "metadata": {}
        },
        {
            "cell_type": "code",
            "execution_count": null,
            "source": [
                "\r\n",
                "X_train, X_test, y_train, y_test = X[:60000], X[60000:], y[:60000], y[60000:]"
            ],
            "outputs": [],
            "metadata": {}
        },
        {
            "cell_type": "markdown",
            "source": [
                "# Training a Binary Classifier"
            ],
            "metadata": {}
        },
        {
            "cell_type": "code",
            "execution_count": null,
            "source": [
                "y_train_5 = (y_train == 5)\r\n",
                "y_test_5 = (y_test == 5)\r\n",
                "y_train_5"
            ],
            "outputs": [],
            "metadata": {}
        },
        {
            "cell_type": "code",
            "execution_count": null,
            "source": [
                "from sklearn.linear_model import SGDClassifier\r\n",
                "\r\n",
                "sgd_clf = SGDClassifier(max_iter=1000, tol=1e-3, random_state=42)\r\n",
                "\r\n",
                "\r\n",
                "sgd_clf = fit_load(\"sgd_clf\", X=X_train, y= y_train_5)\r\n",
                "sgd_clf\r\n"
            ],
            "outputs": [],
            "metadata": {}
        },
        {
            "cell_type": "code",
            "execution_count": null,
            "source": [
                "sgd_clf.predict([some_digit])\r\n"
            ],
            "outputs": [],
            "metadata": {}
        },
        {
            "cell_type": "markdown",
            "source": [
                "# Performance Measures"
            ],
            "metadata": {}
        },
        {
            "cell_type": "markdown",
            "source": [
                "## Measuring Accuracy Using Cross-Validation"
            ],
            "metadata": {}
        },
        {
            "cell_type": "code",
            "execution_count": null,
            "source": [
                "from sklearn.model_selection import StratifiedKFold\r\n",
                "from sklearn.base import clone\r\n",
                "\r\n",
                "skfolds = StratifiedKFold(n_splits=3, shuffle=True, random_state=42)\r\n",
                "plt.yticks(np.arange(0, 11, 1))\r\n",
                "for train_index, test_index in skfolds.split(X_train, y_train_5):\r\n",
                "    clone_clf = clone(sgd_clf)\r\n",
                "\r\n",
                "    X_train_folds = X_train[train_index]\r\n",
                "    y_train_folds = y_train_5[train_index]\r\n",
                "\r\n",
                "    X_test_fold = X_train[test_index]\r\n",
                "    y_test_fold = y_train_5[test_index]\r\n",
                "\r\n",
                "    clone_clf.fit(X_train_folds, y_train_folds)\r\n",
                "    y_pred = clone_clf.predict(X_test_fold)\r\n",
                "    n_correct = sum(y_pred == y_test_fold)\r\n",
                "    print(n_correct / len(y_pred))\r\n"
            ],
            "outputs": [],
            "metadata": {}
        },
        {
            "cell_type": "code",
            "execution_count": null,
            "source": [
                "from sklearn.model_selection import cross_val_score\r\n",
                "\r\n",
                "cross_val_sgd = cross_val_function(\"cross_val_sgd\",\r\n",
                "                                   cross_val_score,\r\n",
                "                                   estimator=sgd_clf,\r\n",
                "                                   X=X_train,\r\n",
                "                                   y=y_train_5,\r\n",
                "                                   cv=3,\r\n",
                "                                   scoring=\"accuracy\")\r\n"
            ],
            "outputs": [],
            "metadata": {}
        },
        {
            "cell_type": "code",
            "execution_count": null,
            "source": [
                "from sklearn.base import BaseEstimator\r\n",
                "\r\n",
                "\r\n",
                "class Never5Classifier(BaseEstimator):\r\n",
                "    \"\"\"This class always predict the output as zero.\"\"\"\r\n",
                "\r\n",
                "    def fit(self, X, y=None):\r\n",
                "        \"\"\"Fit nothing.\"\"\"\r\n",
                "        pass\r\n",
                "\r\n",
                "    def predict(self, X):\r\n",
                "        \"\"\"Return zeros.\"\"\"\r\n",
                "        return np.zeros((len(X), 1), dtype=bool)\r\n",
                "\r\n",
                "\r\n",
                "never_5_clf = Never5Classifier()\r\n",
                "cross_val_function(\"cross_val_never_5\",\r\n",
                "                   cross_val_score,\r\n",
                "                   estimator=never_5_clf,\r\n",
                "                   X=X_train,\r\n",
                "                   y=y_train_5,\r\n",
                "                   cv=3,\r\n",
                "                   scoring=\"accuracy\")\r\n"
            ],
            "outputs": [],
            "metadata": {}
        },
        {
            "cell_type": "code",
            "execution_count": null,
            "source": [
                "from sklearn.model_selection import StratifiedKFold\r\n",
                "from sklearn.base import clone\r\n",
                "\r\n",
                "skfolds = StratifiedKFold(n_splits=3, shuffle=True, random_state=42)\r\n",
                "plt.yticks(np.arange(0, 11, 1))\r\n",
                "for train_index, test_index in skfolds.split(X_train, y_train_5):\r\n",
                "    clone_clf = clone(sgd_clf)\r\n",
                "\r\n",
                "    X_train_folds = X_train[train_index]\r\n",
                "    y_train_folds = y_train_5[train_index]\r\n",
                "\r\n",
                "    X_test_fold = X_train[test_index]\r\n",
                "    y_test_fold = y_train_5[test_index]\r\n",
                "\r\n",
                "    clone_clf.fit(X_train_folds, y_train_folds)\r\n",
                "    y_pred = clone_clf.predict(X_test_fold)\r\n",
                "\r\n",
                "    # Evaluation with true 5s\r\n",
                "    indexOf5s = np.where(np.array(y_test_fold) == True)\r\n",
                "\r\n",
                "    prediction_for_5s = y_pred[indexOf5s]\r\n",
                "    correct_5s = prediction_for_5s[prediction_for_5s == True]\r\n",
                "\r\n",
                "    print(len(correct_5s)/len(prediction_for_5s))\r\n"
            ],
            "outputs": [],
            "metadata": {}
        },
        {
            "cell_type": "markdown",
            "source": [
                "## Confusion Matrix"
            ],
            "metadata": {}
        },
        {
            "cell_type": "code",
            "execution_count": null,
            "source": [
                "from sklearn.metrics import confusion_matrix\r\n",
                "from sklearn.model_selection import cross_val_predict\r\n",
                "\r\n",
                "y_train_pred = cross_val_function(\"y_train_pred\",\r\n",
                "                                  cross_val_predict,\r\n",
                "                                  estimator=sgd_clf,\r\n",
                "                                  X=X_train,\r\n",
                "                                  y=y_train_5,\r\n",
                "                                  cv=3)\r\n",
                "\r\n",
                "confusion_matrix(y_train_5, y_train_pred)\r\n"
            ],
            "outputs": [],
            "metadata": {}
        },
        {
            "cell_type": "code",
            "execution_count": null,
            "source": [
                "y_train_perfect_predictions = y_train_5  # pretend we reached perfection\r\n",
                "confusion_matrix(y_train_5, y_train_perfect_predictions)\r\n"
            ],
            "outputs": [],
            "metadata": {}
        },
        {
            "cell_type": "markdown",
            "source": [
                "## Precision and Recall"
            ],
            "metadata": {}
        },
        {
            "cell_type": "code",
            "execution_count": null,
            "source": [
                "from sklearn.metrics import precision_score, recall_score\r\n",
                "precision_score(y_train_5, y_train_pred), recall_score(y_train_5, y_train_pred)\r\n"
            ],
            "outputs": [],
            "metadata": {}
        },
        {
            "cell_type": "code",
            "execution_count": null,
            "source": [
                "from sklearn.metrics import f1_score\r\n",
                "f1_score(y_train_5, y_train_pred)"
            ],
            "outputs": [],
            "metadata": {}
        },
        {
            "cell_type": "markdown",
            "source": [
                "## Precision/Recall Trade-off"
            ],
            "metadata": {}
        },
        {
            "cell_type": "code",
            "execution_count": null,
            "source": [
                "y_scores = sgd_clf.decision_function([some_digit])\r\n",
                "y_scores"
            ],
            "outputs": [],
            "metadata": {}
        },
        {
            "cell_type": "code",
            "execution_count": null,
            "source": [
                "threshold = 0\r\n",
                "y_some_digit_pred = (y_scores > threshold)\r\n",
                "y_some_digit_pred"
            ],
            "outputs": [],
            "metadata": {}
        },
        {
            "cell_type": "code",
            "execution_count": null,
            "source": [
                "threshold = 8000\r\n",
                "y_some_digit_pred = (y_scores > threshold)\r\n",
                "y_some_digit_pred\r\n"
            ],
            "outputs": [],
            "metadata": {}
        },
        {
            "cell_type": "code",
            "execution_count": null,
            "source": [
                "y_scores = cross_val_function(\"y_scores\",\r\n",
                "                              cross_val_predict,\r\n",
                "                              estimator=sgd_clf,\r\n",
                "                              X=X_train,\r\n",
                "                              y=y_train_5,\r\n",
                "                              cv=3,\r\n",
                "                              method=\"decision_function\")\r\n",
                "y_scores\r\n"
            ],
            "outputs": [],
            "metadata": {}
        },
        {
            "cell_type": "code",
            "execution_count": null,
            "source": [
                "from sklearn.metrics import precision_recall_curve\r\n",
                "precisions, recalls, thresholds = precision_recall_curve(y_train_5, y_scores)\r\n"
            ],
            "outputs": [],
            "metadata": {}
        },
        {
            "cell_type": "code",
            "execution_count": null,
            "source": [
                "def plot_precision_recall_vs_threshold(precisions, recalls, thresholds):\r\n",
                "    \"\"\"Plot precision and and recall graph according to threshold.\"\"\"\r\n",
                "    plt.plot(thresholds, precisions[:-1], \"b--\",\r\n",
                "             label=\"Precision\", linewidth=2)\r\n",
                "    # -1 is for that the number thresholds are one lesser than the length of precision.\r\n",
                "\r\n",
                "    plt.plot(thresholds, recalls[:-1], \"g-\", label=\"Recall\", linewidth=2)\r\n",
                "    plt.legend(loc=\"center right\", fontsize=16)  # Not shown in the book\r\n",
                "    plt.xlabel(\"Threshold\", fontsize=16)        # Not shown\r\n",
                "    plt.grid(True)                              # Not shown\r\n",
                "    plt.axis([-50000, 50000, 0, 1])             # Not shown\r\n",
                "\r\n",
                "\r\n",
                "# Finding the value of recall with 90 percent precision\r\n",
                "# True value is more than False value. The first True is the maximum.\r\n",
                "recall_90_precision = recalls[np.argmax(precisions >= 0.90)]\r\n",
                "\r\n",
                "# Finding the value of threshold with 90 percent precision\r\n",
                "threshold_90_precision = thresholds[np.argmax(precisions >= 0.90)]\r\n",
                "\r\n",
                "\r\n",
                "plt.figure(figsize=(8, 4))\r\n",
                "# Plotting precision and recall graphs according to threshold\r\n",
                "plot_precision_recall_vs_threshold(precisions, recalls, thresholds)\r\n",
                "\r\n",
                "# Drawing the vertical red line\r\n",
                "plt.plot([threshold_90_precision, threshold_90_precision],\r\n",
                "         [0., 0.9], \"r:\")\r\n",
                "\r\n",
                "# Drawing the horizontal red line at 90 percent precision\r\n",
                "plt.plot([-50000, threshold_90_precision], [0.9, 0.9],\r\n",
                "         \"r:\")\r\n",
                "\r\n",
                "# Drawing the horizontal red line at 90 percent precision on the recall graph\r\n",
                "plt.plot([-50000, threshold_90_precision],\r\n",
                "         [recall_90_precision, recall_90_precision], \"r:\")\r\n",
                "\r\n",
                "# Pointing a red dot at the 90 percent of preceision graph\r\n",
                "plt.plot([threshold_90_precision], [0.9], \"ro\")\r\n",
                "\r\n",
                "# Pointing a red dot at the 90 percent of preceision on the recall graph\r\n",
                "plt.plot([threshold_90_precision], [recall_90_precision],\r\n",
                "         \"ro\")\r\n",
                "\r\n",
                "save_fig(\"precision_recall_vs_threshold_plot\")\r\n",
                "plt.show()\r\n"
            ],
            "outputs": [],
            "metadata": {}
        },
        {
            "cell_type": "code",
            "execution_count": null,
            "source": [
                "\r\n",
                "def plot_precision_vs_recall(precisions, recalls):\r\n",
                "    \"\"\"Plot precision according to recall axis.\"\"\"\r\n",
                "    plt.plot(recalls, precisions, \"b-\", linewidth=2)\r\n",
                "    plt.xlabel(\"Recall\", fontsize=16)\r\n",
                "    plt.ylabel(\"Precision\", fontsize=16)\r\n",
                "    plt.axis([0, 1, 0, 1])\r\n",
                "    plt.grid(True)\r\n",
                "\r\n",
                "\r\n",
                "plt.figure(figsize=(8, 6))\r\n",
                "plot_precision_vs_recall(precisions, recalls)\r\n",
                "\r\n",
                "# Drawing a vertical red line\r\n",
                "plt.plot([recall_90_precision, recall_90_precision], [0., 0.9], \"r:\")\r\n",
                "\r\n",
                "# Drawing a horizontal red line\r\n",
                "plt.plot([0.0, recall_90_precision], [0.9, 0.9], \"r:\")\r\n",
                "\r\n",
                "# Pointing a red dot at 90 percent precision\r\n",
                "plt.plot([recall_90_precision], [0.9], \"ro\")\r\n",
                "\r\n",
                "save_fig(\"precision_vs_recall_plot\")\r\n",
                "plt.show()\r\n"
            ],
            "outputs": [],
            "metadata": {}
        },
        {
            "cell_type": "code",
            "execution_count": null,
            "source": [
                "recalls, precisions\r\n"
            ],
            "outputs": [],
            "metadata": {}
        },
        {
            "cell_type": "code",
            "execution_count": null,
            "source": [
                "np.max(recalls * precisions)"
            ],
            "outputs": [],
            "metadata": {}
        },
        {
            "cell_type": "code",
            "execution_count": null,
            "source": [
                "thresholds"
            ],
            "outputs": [],
            "metadata": {}
        },
        {
            "cell_type": "code",
            "execution_count": null,
            "source": [
                "precisions >= 0.90"
            ],
            "outputs": [],
            "metadata": {}
        },
        {
            "cell_type": "code",
            "execution_count": null,
            "source": [
                "np.argmax(precisions >= 0.90)"
            ],
            "outputs": [],
            "metadata": {}
        },
        {
            "cell_type": "code",
            "execution_count": null,
            "source": [
                "threshold_90_precision = thresholds[np.argmax(precisions >= 0.90)]\r\n",
                "threshold_90_precision\r\n"
            ],
            "outputs": [],
            "metadata": {}
        },
        {
            "cell_type": "code",
            "execution_count": null,
            "source": [
                "y_scores"
            ],
            "outputs": [],
            "metadata": {}
        },
        {
            "cell_type": "code",
            "execution_count": null,
            "source": [
                "y_train_pred_90 = (y_scores >= threshold_90_precision)"
            ],
            "outputs": [],
            "metadata": {}
        },
        {
            "cell_type": "code",
            "execution_count": null,
            "source": [
                "precision_score(y_train_5, y_train_pred_90)"
            ],
            "outputs": [],
            "metadata": {}
        },
        {
            "cell_type": "code",
            "execution_count": null,
            "source": [
                "recall_score(y_train_5, y_train_pred_90)"
            ],
            "outputs": [],
            "metadata": {}
        },
        {
            "cell_type": "markdown",
            "source": [
                "## The ROC Curves"
            ],
            "metadata": {}
        },
        {
            "cell_type": "code",
            "execution_count": null,
            "source": [
                "from sklearn.metrics import roc_curve\r\n",
                "fpr, tpr, thresholds = roc_curve(y_train_5, y_scores)\r\n"
            ],
            "outputs": [],
            "metadata": {}
        },
        {
            "cell_type": "code",
            "execution_count": null,
            "source": [
                "import mpld3\r\n",
                "mpld3.enable_notebook()\r\n",
                "\r\n",
                "\r\n",
                "def plot_roc_curve(fpr, tpr, label=None):\r\n",
                "    \"\"\"Plot ROC curve.\"\"\"\r\n",
                "    plt.plot(fpr, tpr, linewidth=2, label=label)\r\n",
                "    plt.plot([0, 1], [0, 1], 'k--')  # dashed diagonal\r\n",
                "    # Not shown in the book\r\n",
                "    plt.axis([0, 1, 0, 1])\r\n",
                "    plt.xlabel('False Positive Rate (Fall-Out)', fontsize=16)  # Not shown\r\n",
                "    plt.ylabel('True Positive Rate (Recall)', fontsize=16)    # Not shown\r\n",
                "    plt.grid(True)                                            # Not shown\r\n",
                "\r\n",
                "\r\n",
                "plt.figure(figsize=(8, 6))                                    # Not shown\r\n",
                "plot_roc_curve(fpr, tpr)\r\n",
                "\r\n",
                "# Finding the fpr that the tpr has at least 90 percent precision.\r\n",
                "fpr_90 = fpr[np.argmax(tpr >= recall_90_precision)]           # Not shown\r\n",
                "\r\n",
                "# Drawing vertical line\r\n",
                "plt.plot([fpr_90, fpr_90], [0., recall_90_precision], \"r:\")   # Not shown\r\n",
                "\r\n",
                "# Drawing horizontal line\r\n",
                "plt.plot([0.0, fpr_90], [recall_90_precision,\r\n",
                "         recall_90_precision], \"r:\")  # Not shown\r\n",
                "\r\n",
                "# Pointing the dot\r\n",
                "plt.plot([fpr_90], [recall_90_precision], \"ro\")               # Not shown\r\n",
                "\r\n",
                "save_fig(\"roc_curve_plot\")                                    # Not shown\r\n",
                "plt.show()\r\n"
            ],
            "outputs": [],
            "metadata": {}
        },
        {
            "cell_type": "code",
            "execution_count": null,
            "source": [
                "len(tpr)"
            ],
            "outputs": [],
            "metadata": {}
        },
        {
            "cell_type": "code",
            "execution_count": null,
            "source": [
                "len(recalls)"
            ],
            "outputs": [],
            "metadata": {}
        },
        {
            "cell_type": "code",
            "execution_count": null,
            "source": [
                "from sklearn.metrics import roc_auc_score\r\n",
                "roc_auc_score(y_train_5, y_scores)\r\n"
            ],
            "outputs": [],
            "metadata": {}
        },
        {
            "cell_type": "code",
            "execution_count": null,
            "source": [
                "from sklearn.ensemble import RandomForestClassifier\r\n",
                "forest_clf = RandomForestClassifier(random_state=42)\r\n",
                "y_probas_forest = cross_val_function(\"y_probas_forest\",\r\n",
                "                                     cross_val_predict,\r\n",
                "                                     estimator=forest_clf,\r\n",
                "                                     X=X_train,\r\n",
                "                                     y=y_train_5,\r\n",
                "                                     cv=3,\r\n",
                "                                     method=\"predict_proba\")\r\n",
                "\r\n",
                "y_probas_forest\r\n"
            ],
            "outputs": [],
            "metadata": {}
        },
        {
            "cell_type": "code",
            "execution_count": null,
            "source": [
                "y_scores_forest = y_probas_forest[:, 1]  # score = proba of positive class\r\n",
                "y_scores_forest\r\n"
            ],
            "outputs": [],
            "metadata": {}
        },
        {
            "cell_type": "code",
            "execution_count": null,
            "source": [
                "fpr_forest, tpr_forest, thresholds_forest = roc_curve(y_train_5,y_scores_forest)"
            ],
            "outputs": [],
            "metadata": {}
        },
        {
            "cell_type": "code",
            "execution_count": null,
            "source": [
                "plt.plot(fpr, tpr, \"b:\", label=\"SGD\")\r\n",
                "plot_roc_curve(fpr_forest, tpr_forest, \"Random Forest\")\r\n",
                "plt.legend(loc=\"lower right\")\r\n",
                "plt.show()\r\n"
            ],
            "outputs": [],
            "metadata": {}
        },
        {
            "cell_type": "code",
            "execution_count": null,
            "source": [
                "roc_auc_score(y_train_5, y_scores_forest)"
            ],
            "outputs": [],
            "metadata": {}
        },
        {
            "cell_type": "code",
            "execution_count": null,
            "source": [
                "from sklearn.metrics import precision_score, recall_score\r\n",
                "\r\n",
                "\r\n",
                "y_train_pred_forest = cross_val_function(\"y_train_pred_forest\",\r\n",
                "                                         cross_val_predict,\r\n",
                "                                         estimator=forest_clf,\r\n",
                "                                         X=X_train,\r\n",
                "                                         y=y_train_5,\r\n",
                "                                         cv=3)\r\n",
                "\r\n",
                "y_train_pred_forest\r\n"
            ],
            "outputs": [],
            "metadata": {}
        },
        {
            "cell_type": "code",
            "execution_count": null,
            "source": [
                "print(precision_score(y_train_5, y_train_pred_forest))\r\n",
                "print(recall_score(y_train_5, y_train_pred_forest))"
            ],
            "outputs": [],
            "metadata": {}
        },
        {
            "cell_type": "markdown",
            "source": [
                "#"
            ],
            "metadata": {}
        },
        {
            "cell_type": "markdown",
            "source": [
                "# Multicalss Classification"
            ],
            "metadata": {}
        },
        {
            "cell_type": "code",
            "execution_count": null,
            "source": [
                "from sklearn.svm import SVC\r\n",
                "svm_clf = SVC()\r\n",
                "svm_clf = fit_load(\"svm_clf\", X=X_train, y=y_train)\r\n",
                "# svm_clf.fit(X_train, y_train)  # y_train, not y_train_5\r\n",
                "svm_clf.predict([some_digit])\r\n"
            ],
            "outputs": [],
            "metadata": {}
        },
        {
            "cell_type": "code",
            "execution_count": null,
            "source": [
                "some_digit_scores = svm_clf.decision_function([some_digit])\r\n",
                "some_digit_scores\r\n"
            ],
            "outputs": [],
            "metadata": {}
        },
        {
            "cell_type": "code",
            "execution_count": null,
            "source": [
                "np.argmax(some_digit_scores)\r\n"
            ],
            "outputs": [],
            "metadata": {}
        },
        {
            "cell_type": "code",
            "execution_count": null,
            "source": [
                "svm_clf.classes_"
            ],
            "outputs": [],
            "metadata": {}
        },
        {
            "cell_type": "code",
            "execution_count": null,
            "source": [
                "svm_clf.classes_[5]"
            ],
            "outputs": [],
            "metadata": {}
        },
        {
            "cell_type": "code",
            "execution_count": null,
            "source": [
                "from sklearn.multiclass import OneVsRestClassifier\r\n",
                "ovr_clf = OneVsRestClassifier(SVC())\r\n",
                "ovr_clf = fit_load(\"ovr_clf\", X=X_train, y=y_train)\r\n",
                "ovr_clf.predict([some_digit])\r\n"
            ],
            "outputs": [],
            "metadata": {}
        },
        {
            "cell_type": "code",
            "execution_count": null,
            "source": [
                "len(ovr_clf.estimators_)\r\n"
            ],
            "outputs": [],
            "metadata": {}
        },
        {
            "cell_type": "code",
            "execution_count": null,
            "source": [
                "sgd_clf_multiclass = SGDClassifier(max_iter=1000, tol=1e-3, random_state=42)\r\n",
                "sgd_clf_multiclass = fit_load(\"sgd_clf_multiclass\", X=X_train, y=y_train)\r\n",
                "sgd_clf_multiclass.predict([some_digit])\r\n"
            ],
            "outputs": [],
            "metadata": {}
        },
        {
            "cell_type": "code",
            "execution_count": null,
            "source": [
                "sgd_clf_multiclass.decision_function([some_digit])\r\n"
            ],
            "outputs": [],
            "metadata": {}
        },
        {
            "cell_type": "code",
            "execution_count": null,
            "source": [
                "sgd_clf_multiclass = SGDClassifier(max_iter=1000, tol=1e-3, random_state=42)\r\n",
                "cross_val_function(\"sgd_clf_mul_cross_val\",\r\n",
                "                   cross_val_score,\r\n",
                "                   estimator=sgd_clf_multiclass,\r\n",
                "                   X=X_train,\r\n",
                "                   y=y_train,\r\n",
                "                   cv=3,\r\n",
                "                   scoring=\"accuracy\")\r\n"
            ],
            "outputs": [],
            "metadata": {}
        },
        {
            "cell_type": "code",
            "execution_count": null,
            "source": [
                "from sklearn.preprocessing import StandardScaler\r\n",
                "scaler = StandardScaler()\r\n",
                "X_train_scaled = scaler.fit_transform(X_train.astype(np.float64))\r\n",
                "\r\n",
                "cross_val_function(\"sgd_clf_mult_cross_val_scaled\",\r\n",
                "                   cross_val_score,\r\n",
                "                   estimator=sgd_clf,\r\n",
                "                   X=X_train_scaled,\r\n",
                "                   y=y_train,\r\n",
                "                   cv=3,\r\n",
                "                   scoring=\"accuracy\")\r\n"
            ],
            "outputs": [],
            "metadata": {}
        },
        {
            "cell_type": "markdown",
            "source": [
                "# Error Analysis"
            ],
            "metadata": {}
        },
        {
            "cell_type": "code",
            "execution_count": null,
            "source": [
                "y_train_pred = cross_val_function(\"sgd_clf_mult_scaled_cross_pred\",\r\n",
                "                                  cross_val_predict,\r\n",
                "                                  estimator=sgd_clf,\r\n",
                "                                  X=X_train_scaled,\r\n",
                "                                  y=y_train,\r\n",
                "                                  cv=3)\r\n",
                "conf_mx = confusion_matrix(y_train, y_train_pred)\r\n",
                "conf_mx\r\n"
            ],
            "outputs": [],
            "metadata": {}
        },
        {
            "cell_type": "code",
            "execution_count": null,
            "source": [
                "def plot_matrix(matrix):\r\n",
                "    \"\"\"Plot confusion matrix with colerbar.\"\"\"\r\n",
                "    fig = plt.figure(figsize=(8, 8))\r\n",
                "    ax = fig.add_subplot(111)\r\n",
                "    cax = ax.matshow(matrix)\r\n",
                "    fig.colorbar(cax)\r\n",
                "    return fig\r\n"
            ],
            "outputs": [],
            "metadata": {}
        },
        {
            "cell_type": "code",
            "execution_count": null,
            "source": [
                "plot_matrix(conf_mx)\r\n",
                "save_fig(\"confusion_matrix_plot\", tight_layout=False)\r\n",
                "plt.xticks(np.arange(0, 10, 1))\r\n",
                "plt.yticks(np.arange(0, 10, 1))\r\n",
                "plt.show()\r\n"
            ],
            "outputs": [],
            "metadata": {}
        },
        {
            "cell_type": "code",
            "execution_count": null,
            "source": [
                "row_sums = conf_mx.sum(axis=1, keepdims=True)\r\n",
                "row_sums"
            ],
            "outputs": [],
            "metadata": {}
        },
        {
            "cell_type": "code",
            "execution_count": null,
            "source": [
                "norm_conf_mx = conf_mx / row_sums\r\n",
                "norm_conf_mx"
            ],
            "outputs": [],
            "metadata": {}
        },
        {
            "cell_type": "code",
            "execution_count": null,
            "source": [
                "np.fill_diagonal(norm_conf_mx, 0)\r\n",
                "plt.matshow(norm_conf_mx, cmap=plt.cm.jet)\r\n",
                "save_fig(\"confusion_matrix_errors_plot\", tight_layout=False)\r\n",
                "plt.colorbar()\r\n",
                "plt.show()\r\n"
            ],
            "outputs": [],
            "metadata": {}
        },
        {
            "cell_type": "code",
            "execution_count": null,
            "source": [
                "# EXTRA\r\n",
                "def plot_digits(instances, images_per_row=10, **options):\r\n",
                "    \"\"\"Plot digits in a square format.\"\"\"\r\n",
                "    size = 28\r\n",
                "    images_per_row = min(len(instances), images_per_row)\r\n",
                "    images = [instance.reshape(size,size) for instance in instances]\r\n",
                "    n_rows = (len(instances) - 1) // images_per_row + 1\r\n",
                "    row_images = []\r\n",
                "    n_empty = n_rows * images_per_row - len(instances)\r\n",
                "    images.append(np.zeros((size, size * n_empty)))\r\n",
                "    for row in range(n_rows):\r\n",
                "        rimages = images[row * images_per_row : (row + 1) * images_per_row]\r\n",
                "        row_images.append(np.concatenate(rimages, axis=1))\r\n",
                "    image = np.concatenate(row_images, axis=0)\r\n",
                "    plt.imshow(image, cmap = mpl.cm.binary, **options)\r\n",
                "    plt.axis(\"off\")"
            ],
            "outputs": [],
            "metadata": {}
        },
        {
            "cell_type": "code",
            "execution_count": null,
            "source": [
                "\r\n",
                "cl_a, cl_b = 3, 5\r\n",
                "X_aa = X_train[(y_train == cl_a) & (y_train_pred == cl_a)]\r\n",
                "X_ab = X_train[(y_train == cl_a) & (y_train_pred == cl_b)]\r\n",
                "X_ba = X_train[(y_train == cl_b) & (y_train_pred == cl_a)]\r\n",
                "X_bb = X_train[(y_train == cl_b) & (y_train_pred == cl_b)]\r\n",
                "\r\n",
                "plt.figure(figsize=(8,8))\r\n",
                "plt.subplot(221); plot_digits(X_aa[:25], images_per_row=5)\r\n",
                "plt.subplot(222); plot_digits(X_ab[:25], images_per_row=5)\r\n",
                "plt.subplot(223); plot_digits(X_ba[:25], images_per_row=5)\r\n",
                "plt.subplot(224); plot_digits(X_bb[:25], images_per_row=5)\r\n",
                "save_fig(\"error_analysis_digits_plot\")\r\n",
                "plt.show()"
            ],
            "outputs": [],
            "metadata": {}
        },
        {
            "cell_type": "markdown",
            "source": [
                "# Multilabel Classification"
            ],
            "metadata": {}
        },
        {
            "cell_type": "code",
            "execution_count": null,
            "source": [
                "from sklearn.neighbors import KNeighborsClassifier\r\n",
                "\r\n",
                "y_train_large = (y_train >= 7)\r\n",
                "y_train_odd = (y_train % 2 == 1)\r\n",
                "\"\"\"\r\n",
                "numpy.c_ :\r\n",
                "    numpy.c_ = <numpy.lib.index_tricks.CClass object>\r\n",
                "    Translates slice objects to concatenation along the second axis.\r\n",
                "\"\"\"\r\n",
                "y_multilabel = np.c_[y_train_large, y_train_odd]\r\n",
                "y_multilabel\r\n"
            ],
            "outputs": [],
            "metadata": {}
        },
        {
            "cell_type": "code",
            "execution_count": null,
            "source": [
                "knn_clf = KNeighborsClassifier()\r\n",
                "knn_clf = fit_load(\"knn_clf\", X=X_train, y=y_multilabel)\r\n"
            ],
            "outputs": [],
            "metadata": {}
        },
        {
            "cell_type": "code",
            "execution_count": null,
            "source": [
                "knn_clf.predict([some_digit])"
            ],
            "outputs": [],
            "metadata": {}
        },
        {
            "cell_type": "code",
            "execution_count": null,
            "source": [
                "y_train_knn_pred = cross_val_function(\"y_train_knn_pred\",\r\n",
                "                                      cross_val_predict,\r\n",
                "                                      estimator=knn_clf,\r\n",
                "                                      X=X_train,\r\n",
                "                                      y=y_multilabel,\r\n",
                "                                      cv=3)\r\n"
            ],
            "outputs": [],
            "metadata": {}
        },
        {
            "cell_type": "code",
            "execution_count": null,
            "source": [
                "f1_score(y_multilabel, y_train_knn_pred, average=\"macro\")"
            ],
            "outputs": [],
            "metadata": {}
        },
        {
            "cell_type": "markdown",
            "source": [
                "# Multioutput Classification"
            ],
            "metadata": {}
        },
        {
            "cell_type": "code",
            "execution_count": null,
            "source": [
                "noise = np.random.randint(0, 100, (len(X_train), 784))\r\n",
                "X_train_mod = X_train + noise\r\n",
                "noise = np.random.randint(0, 100, (len(X_test), 784))\r\n",
                "X_test_mod = X_test + noise\r\n",
                "y_train_mod = X_train\r\n",
                "y_test_mod = X_test\r\n"
            ],
            "outputs": [],
            "metadata": {}
        },
        {
            "cell_type": "code",
            "execution_count": null,
            "source": [
                "some_index = 0\r\n",
                "plt.subplot(121)\r\n",
                "plot_digit(X_test_mod[some_index])\r\n",
                "plt.subplot(122)\r\n",
                "plot_digit(y_test_mod[some_index])\r\n",
                "save_fig(\"noisy_digit_example_plot\")\r\n",
                "plt.show()\r\n"
            ],
            "outputs": [],
            "metadata": {}
        },
        {
            "cell_type": "code",
            "execution_count": null,
            "source": [
                "knn_clf_noise_cancelation = KNeighborsClassifier()\r\n",
                "knn_clf_noise_cancelation = fit_load(\"knn_clf_noise_cancelation\",\r\n",
                "                                     X=X_train_mod,\r\n",
                "                                     y=y_train_mod)\r\n",
                "clean_digit = knn_clf_noise_cancelation.predict([X_test_mod[some_index]])\r\n",
                "plot_digit(clean_digit)\r\n"
            ],
            "outputs": [],
            "metadata": {}
        },
        {
            "cell_type": "markdown",
            "source": [
                "# KNN Classifier Optimization"
            ],
            "metadata": {}
        },
        {
            "cell_type": "code",
            "execution_count": null,
            "source": [
                "from scipy.ndimage.interpolation import shift\r\n",
                "\r\n",
                "\r\n",
                "def shift_digit(digit_array, dx, dy, new=0):\r\n",
                "    \"\"\"Shift the digit on the image.\"\"\"\r\n",
                "    return shift(digit_array.reshape(28, 28), [dy, dx], cval=new).reshape(-1)\r\n",
                "\r\n",
                "\r\n",
                "plot_digit(shift_digit(some_digit, 5, 1, new=100))\r\n"
            ],
            "outputs": [],
            "metadata": {}
        },
        {
            "cell_type": "code",
            "execution_count": null,
            "source": [
                "import os\r\n",
                "import joblib\r\n",
                "\r\n",
                "modelPath = \"cache\\\\Chap3\"\r\n",
                "\r\n",
                "\r\n",
                "os.makedirs(modelPath, exist_ok=True)\r\n",
                "\r\n",
                "X_train_expanded_path = os.path.join(modelPath, \"X_train_expanded.pkl\")\r\n",
                "y_train_expanded_path = os.path.join(modelPath, \"y_train_expanded.pkl\")\r\n",
                "\r\n",
                "\r\n",
                "X_train_expanded = [X_train]\r\n",
                "y_train_expanded = [y_train]\r\n",
                "\r\n",
                "\r\n",
                "if os.path.isfile(X_train_expanded_path) and os.path.isfile(y_train_expanded_path):\r\n",
                "    X_train_expanded = joblib.load(X_train_expanded_path)\r\n",
                "    y_train_expanded = joblib.load(y_train_expanded_path)\r\n",
                "\r\n",
                "else:\r\n",
                "    for dx, dy in ((1, 0), (-1, 0), (0, 1), (0, -1)):\r\n",
                "        shifted_images = np.apply_along_axis(\r\n",
                "            shift_digit, axis=1, arr=X_train, dx=dx, dy=dy)\r\n",
                "        X_train_expanded.append(shifted_images)\r\n",
                "        y_train_expanded.append(y_train)\r\n",
                "\r\n",
                "        joblib.dump(X_train_expanded, X_train_expanded_path)\r\n",
                "        joblib.dump(y_train_expanded, y_train_expanded_path)\r\n",
                "\r\n",
                "\r\n",
                "print(X_train_expanded)\r\n",
                "print(y_train_expanded)\r\n"
            ],
            "outputs": [],
            "metadata": {}
        },
        {
            "cell_type": "code",
            "execution_count": null,
            "source": [
                "X_train_expanded = np.concatenate(X_train_expanded)\r\n",
                "y_train_expanded = np.concatenate(y_train_expanded)\r\n",
                "X_train_expanded.shape, y_train_expanded.shape\r\n"
            ],
            "outputs": [],
            "metadata": {}
        },
        {
            "cell_type": "code",
            "execution_count": null,
            "source": [
                "from sklearn.neighbors import KNeighborsClassifier\r\n",
                "knn_clf_optimized = KNeighborsClassifier(weights='distance', n_neighbors=4)\r\n",
                "knn_clf_optimized = fit_load(\"knn_clf_optimized\",\r\n",
                "                             X=X_train_expanded,\r\n",
                "                             y=y_train_expanded)\r\n"
            ],
            "outputs": [],
            "metadata": {}
        },
        {
            "cell_type": "code",
            "execution_count": null,
            "source": [
                "\r\n",
                "import os\r\n",
                "import joblib\r\n",
                "\r\n",
                "modelPath = \"cache\\\\Chap3\"\r\n",
                "\r\n",
                "\r\n",
                "os.makedirs(modelPath, exist_ok=True)\r\n",
                "\r\n",
                "y_knn_expanded_pred_path = os.path.join(\r\n",
                "    modelPath, \"y_knn_expanded_pred_path.pkl\")\r\n",
                "\r\n",
                "\r\n",
                "if os.path.isfile(y_knn_expanded_pred_path):\r\n",
                "    y_knn_expanded_pred = joblib.load(y_knn_expanded_pred_path)\r\n",
                "\r\n",
                "else:\r\n",
                "    y_knn_expanded_pred = knn_clf_optimized.predict(X_test)\r\n",
                "\r\n",
                "    joblib.dump(y_knn_expanded_pred, y_knn_expanded_pred_path)\r\n",
                "\r\n",
                "\r\n"
            ],
            "outputs": [],
            "metadata": {}
        },
        {
            "cell_type": "code",
            "execution_count": null,
            "source": [
                "from sklearn.metrics import accuracy_score\r\n",
                "\r\n",
                "accuracy_score(y_test, y_knn_expanded_pred)\r\n"
            ],
            "outputs": [],
            "metadata": {}
        },
        {
            "cell_type": "code",
            "execution_count": null,
            "source": [
                "ambiguous_digit = X_test[2589]\r\n",
                "knn_clf_optimized.predict_proba([ambiguous_digit])"
            ],
            "outputs": [],
            "metadata": {}
        },
        {
            "cell_type": "code",
            "execution_count": null,
            "source": [
                "plot_digit(ambiguous_digit)\r\n"
            ],
            "outputs": [],
            "metadata": {}
        },
        {
            "cell_type": "code",
            "execution_count": null,
            "source": [
                "from sklearn.neighbors import KNeighborsClassifier\r\n",
                "knn_clf_optimized = KNeighborsClassifier(n_neighbors=4, weights='distance')\r\n",
                "\r\n",
                "knn_clf_optimized_cross_predict = cross_val_function(\"knn_clf_optimized_cross_predict\",\r\n",
                "                                                     cross_val_predict,\r\n",
                "                                                     estimator=knn_clf_optimized,\r\n",
                "                                                     X=X_train_expanded,\r\n",
                "                                                     y=y_train_expanded,\r\n",
                "                                                     cv=6,\r\n",
                "                                                     verbose=2)\r\n"
            ],
            "outputs": [],
            "metadata": {}
        },
        {
            "cell_type": "code",
            "execution_count": null,
            "source": [
                "from sklearn.metrics import accuracy_score\r\n",
                "\r\n",
                "accuracy_score(y_train_expanded, knn_clf_optimized_cross_predict)\r\n"
            ],
            "outputs": [],
            "metadata": {}
        }
    ],
    "metadata": {
        "orig_nbformat": 4,
        "language_info": {
            "name": "python",
            "version": "3.8.10",
            "mimetype": "text/x-python",
            "codemirror_mode": {
                "name": "ipython",
                "version": 3
            },
            "pygments_lexer": "ipython3",
            "nbconvert_exporter": "python",
            "file_extension": ".py"
        },
        "kernelspec": {
            "name": "python3",
            "display_name": "Python 3.8.10 64-bit ('MLEnv': conda)"
        },
        "interpreter": {
            "hash": "8ff518ebd5428a0b5a194ffdc11f3c0cf7422af80dd3646c2eb4a885ad6fbaf9"
        }
    },
    "nbformat": 4,
    "nbformat_minor": 2
}