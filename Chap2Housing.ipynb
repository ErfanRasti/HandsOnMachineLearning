{
 "metadata": {
  "language_info": {
   "codemirror_mode": {
    "name": "ipython",
    "version": 3
   },
   "file_extension": ".py",
   "mimetype": "text/x-python",
   "name": "python",
   "nbconvert_exporter": "python",
   "pygments_lexer": "ipython3",
   "version": "3.8.8"
  },
  "orig_nbformat": 4,
  "kernelspec": {
   "name": "python3",
   "display_name": "Python 3.8.8 64-bit ('.venv': venv)"
  },
  "interpreter": {
   "hash": "0a3d99ec5aa969bd88a3ac9e012759ec58a883456f49ac681f447b2d824e72c6"
  }
 },
 "nbformat": 4,
 "nbformat_minor": 2,
 "cells": [
  {
   "cell_type": "code",
   "execution_count": 21,
   "metadata": {},
   "outputs": [
    {
     "output_type": "display_data",
     "data": {
      "text/plain": "<IPython.core.display.Javascript object>",
      "application/javascript": "\n            setTimeout(function() {\n                var nbb_cell_id = 21;\n                var nbb_unformatted_code = \"import os\\nimport tarfile\\nimport urllib\\nDOWNLOAD_ROOT=\\\"https://raw.githubusercontent.com/ageron/handson-ml2/master/\\\"\\nHOUSING_PATH = os.path.join(\\\"datasets\\\", \\\"housing\\\")\\nHOUSING_URL = DOWNLOAD_ROOT + \\\"datasets/housing/housing.tgz\\\"\\ndef fetch_housing_data(housing_url=HOUSING_URL, housing_path=HOUSING_PATH):\\n    os.makedirs(housing_path, exist_ok=True)\\n    tgz_path = os.path.join(housing_path, \\\"housing.tgz\\\")\\n    urllib.request.urlretrieve(housing_url, tgz_path)\\n    housing_tgz = tarfile.open(tgz_path)\\n    housing_tgz.extractall(path=housing_path)\\n    housing_tgz.close()\";\n                var nbb_formatted_code = \"import os\\nimport tarfile\\nimport urllib\\n\\nDOWNLOAD_ROOT = \\\"https://raw.githubusercontent.com/ageron/handson-ml2/master/\\\"\\nHOUSING_PATH = os.path.join(\\\"datasets\\\", \\\"housing\\\")\\nHOUSING_URL = DOWNLOAD_ROOT + \\\"datasets/housing/housing.tgz\\\"\\n\\n\\ndef fetch_housing_data(housing_url=HOUSING_URL, housing_path=HOUSING_PATH):\\n    os.makedirs(housing_path, exist_ok=True)\\n    tgz_path = os.path.join(housing_path, \\\"housing.tgz\\\")\\n    urllib.request.urlretrieve(housing_url, tgz_path)\\n    housing_tgz = tarfile.open(tgz_path)\\n    housing_tgz.extractall(path=housing_path)\\n    housing_tgz.close()\";\n                var nbb_cells = Jupyter.notebook.get_cells();\n                for (var i = 0; i < nbb_cells.length; ++i) {\n                    if (nbb_cells[i].input_prompt_number == nbb_cell_id) {\n                        if (nbb_cells[i].get_text() == nbb_unformatted_code) {\n                             nbb_cells[i].set_text(nbb_formatted_code);\n                        }\n                        break;\n                    }\n                }\n            }, 500);\n            "
     },
     "metadata": {}
    }
   ],
   "source": [
    "import os\n",
    "import tarfile\n",
    "import urllib\n",
    "DOWNLOAD_ROOT = \"https://raw.githubusercontent.com/ageron/handson-ml2/master/\"\n",
    "HOUSING_PATH = os.path.join(\"datasets\", \"housing\")\n",
    "HOUSING_URL = DOWNLOAD_ROOT + \"datasets/housing/housing.tgz\"\n",
    "def fetch_housing_data(housing_url=HOUSING_URL, housing_path=HOUSING_PATH):\n",
    "    os.makedirs(housing_path, exist_ok=True)\n",
    "    tgz_path = os.path.join(housing_path, \"housing.tgz\")\n",
    "    urllib.request.urlretrieve(housing_url, tgz_path)\n",
    "    housing_tgz = tarfile.open(tgz_path)\n",
    "    housing_tgz.extractall(path=housing_path)\n",
    "    housing_tgz.close()"
   ]
  },
  {
   "cell_type": "code",
   "execution_count": null,
   "metadata": {},
   "outputs": [],
   "source": []
  }
 ]
}